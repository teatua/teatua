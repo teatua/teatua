{
  "nbformat": 4,
  "nbformat_minor": 0,
  "metadata": {
    "colab": {
      "provenance": [],
      "authorship_tag": "ABX9TyOG7+PEMfqHN73f0FY3NvHj",
      "include_colab_link": true
    },
    "kernelspec": {
      "name": "python3",
      "display_name": "Python 3"
    },
    "language_info": {
      "name": "python"
    }
  },
  "cells": [
    {
      "cell_type": "markdown",
      "metadata": {
        "id": "view-in-github",
        "colab_type": "text"
      },
      "source": [
        "<a href=\"https://colab.research.google.com/github/teatua/teatua/blob/main/Defang_IP.ipynb\" target=\"_parent\"><img src=\"https://colab.research.google.com/assets/colab-badge.svg\" alt=\"Open In Colab\"/></a>"
      ]
    },
    {
      "cell_type": "code",
      "execution_count": 2,
      "metadata": {
        "colab": {
          "base_uri": "https://localhost:8080/"
        },
        "id": "GOgnSd1W_C4Q",
        "outputId": "c7930da5-48c6-4e47-910e-d41d1d2317fe"
      },
      "outputs": [
        {
          "output_type": "stream",
          "name": "stdout",
          "text": [
            "defanged: 192[.]168[.]0[.]1\n"
          ]
        }
      ],
      "source": [
        "# 1) Using Python built-in function 'replace'\n",
        "\n",
        "# Define the function \"defang\" use IP in string and give result in string\n",
        "def defang(ip :str) -> str:\n",
        "# Return the IP and replace '.' with '[.]'\n",
        "  return ip.replace('.', '[.]')\n",
        "\n",
        "testip = '192.168.0.1'\n",
        "print('defanged:', defang(testip))\n"
      ]
    },
    {
      "cell_type": "code",
      "source": [
        "# 2) Without the Python built-in function 'replace' using *string manipulation*\n",
        "\n",
        "def defang(ip :str) -> str:\n",
        "    ans = ''\n",
        "    for ch in ip:\n",
        "      if ch == '.':\n",
        "        ans += '[.]'\n",
        "      else: \n",
        "        ans += ch\n",
        "      \n",
        "    return ans\n",
        "\n",
        "testip = '192.168.0.1'\n",
        "print('defanged:', defang(testip))\n",
        "\n",
        "\n"
      ],
      "metadata": {
        "colab": {
          "base_uri": "https://localhost:8080/"
        },
        "id": "GnnIG-XmDQ72",
        "outputId": "b28e4446-01a5-4ad9-db2d-f5fcecc83ccb"
      },
      "execution_count": 11,
      "outputs": [
        {
          "output_type": "stream",
          "name": "stdout",
          "text": [
            "defanged: 192[.]168[.]0[.]1\n"
          ]
        }
      ]
    }
  ]
}